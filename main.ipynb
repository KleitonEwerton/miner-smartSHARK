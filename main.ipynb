{
  "cells": [
    {
      "cell_type": "markdown",
      "metadata": {
        "id": "Wu3AtKaczcPh"
      },
      "source": [
        "# Pips and Connection "
      ]
    },
    {
      "cell_type": "code",
      "execution_count": 18,
      "metadata": {
        "colab": {
          "base_uri": "https://localhost:8080/"
        },
        "id": "uRYVY8OcykeE",
        "outputId": "ac8ea31d-e63c-4cb1-8c81-38bcef8bc6ba"
      },
      "outputs": [
        {
          "name": "stdout",
          "output_type": "stream",
          "text": [
            "Requirement already satisfied: mongoengine in c:\\users\\kleitonewerton\\documents\\tcc\\miner-smartshark\\venv\\lib\\site-packages (0.23.1)\n",
            "Requirement already satisfied: pymongo<4.0,>=3.4 in c:\\users\\kleitonewerton\\documents\\tcc\\miner-smartshark\\venv\\lib\\site-packages (from mongoengine) (3.12.2)\n",
            "Note: you may need to restart the kernel to use updated packages.\n",
            "Requirement already satisfied: pycoshark in c:\\users\\kleitonewerton\\documents\\tcc\\miner-smartshark\\venv\\lib\\site-packages (1.4.5)\n",
            "Requirement already satisfied: textdistance in c:\\users\\kleitonewerton\\documents\\tcc\\miner-smartshark\\venv\\lib\\site-packages (from pycoshark) (4.5.0)\n",
            "Requirement already satisfied: mongoengine==0.23.1 in c:\\users\\kleitonewerton\\documents\\tcc\\miner-smartshark\\venv\\lib\\site-packages (from pycoshark) (0.23.1)\n",
            "Requirement already satisfied: networkx in c:\\users\\kleitonewerton\\documents\\tcc\\miner-smartshark\\venv\\lib\\site-packages (from pycoshark) (2.8.8)\n",
            "Requirement already satisfied: pymongo==3.12.2 in c:\\users\\kleitonewerton\\documents\\tcc\\miner-smartshark\\venv\\lib\\site-packages (from pycoshark) (3.12.2)\n",
            "Requirement already satisfied: python-dateutil in c:\\users\\kleitonewerton\\documents\\tcc\\miner-smartshark\\venv\\lib\\site-packages (from pycoshark) (2.8.2)\n",
            "Requirement already satisfied: six>=1.5 in c:\\users\\kleitonewerton\\documents\\tcc\\miner-smartshark\\venv\\lib\\site-packages (from python-dateutil->pycoshark) (1.16.0)\n",
            "Note: you may need to restart the kernel to use updated packages.\n",
            "Requirement already satisfied: matplotlib in c:\\users\\kleitonewerton\\documents\\tcc\\miner-smartshark\\venv\\lib\\site-packages (3.6.2)Note: you may need to restart the kernel to use updated packages.\n",
            "\n",
            "Requirement already satisfied: fonttools>=4.22.0 in c:\\users\\kleitonewerton\\documents\\tcc\\miner-smartshark\\venv\\lib\\site-packages (from matplotlib) (4.38.0)\n",
            "Requirement already satisfied: kiwisolver>=1.0.1 in c:\\users\\kleitonewerton\\documents\\tcc\\miner-smartshark\\venv\\lib\\site-packages (from matplotlib) (1.4.4)\n",
            "Requirement already satisfied: pillow>=6.2.0 in c:\\users\\kleitonewerton\\documents\\tcc\\miner-smartshark\\venv\\lib\\site-packages (from matplotlib) (9.3.0)\n",
            "Requirement already satisfied: contourpy>=1.0.1 in c:\\users\\kleitonewerton\\documents\\tcc\\miner-smartshark\\venv\\lib\\site-packages (from matplotlib) (1.0.6)\n",
            "Requirement already satisfied: pyparsing>=2.2.1 in c:\\users\\kleitonewerton\\documents\\tcc\\miner-smartshark\\venv\\lib\\site-packages (from matplotlib) (3.0.9)\n",
            "Requirement already satisfied: python-dateutil>=2.7 in c:\\users\\kleitonewerton\\documents\\tcc\\miner-smartshark\\venv\\lib\\site-packages (from matplotlib) (2.8.2)\n",
            "Requirement already satisfied: packaging>=20.0 in c:\\users\\kleitonewerton\\documents\\tcc\\miner-smartshark\\venv\\lib\\site-packages (from matplotlib) (21.3)\n",
            "Requirement already satisfied: numpy>=1.19 in c:\\users\\kleitonewerton\\documents\\tcc\\miner-smartshark\\venv\\lib\\site-packages (from matplotlib) (1.23.5)\n",
            "Requirement already satisfied: cycler>=0.10 in c:\\users\\kleitonewerton\\documents\\tcc\\miner-smartshark\\venv\\lib\\site-packages (from matplotlib) (0.11.0)\n",
            "Requirement already satisfied: six>=1.5 in c:\\users\\kleitonewerton\\documents\\tcc\\miner-smartshark\\venv\\lib\\site-packages (from python-dateutil>=2.7->matplotlib) (1.16.0)\n",
            "Collecting pandas\n",
            "  Downloading pandas-1.5.2-cp38-cp38-win_amd64.whl (11.0 MB)\n",
            "     --------------------------------------- 11.0/11.0 MB 19.8 MB/s eta 0:00:00\n",
            "Requirement already satisfied: numpy>=1.20.3 in c:\\users\\kleitonewerton\\documents\\tcc\\miner-smartshark\\venv\\lib\\site-packages (from pandas) (1.23.5)\n",
            "Requirement already satisfied: pytz>=2020.1 in c:\\users\\kleitonewerton\\documents\\tcc\\miner-smartshark\\venv\\lib\\site-packages (from pandas) (2022.6)\n",
            "Requirement already satisfied: python-dateutil>=2.8.1 in c:\\users\\kleitonewerton\\documents\\tcc\\miner-smartshark\\venv\\lib\\site-packages (from pandas) (2.8.2)\n",
            "Requirement already satisfied: six>=1.5 in c:\\users\\kleitonewerton\\documents\\tcc\\miner-smartshark\\venv\\lib\\site-packages (from python-dateutil>=2.8.1->pandas) (1.16.0)\n",
            "Installing collected packages: pandas\n",
            "Successfully installed pandas-1.5.2\n",
            "Note: you may need to restart the kernel to use updated packages.\n",
            "Collecting seabornNote: you may need to restart the kernel to use updated packages.\n",
            "\n",
            "  Using cached seaborn-0.12.1-py3-none-any.whl (288 kB)\n",
            "Requirement already satisfied: numpy>=1.17 in c:\\users\\kleitonewerton\\documents\\tcc\\miner-smartshark\\venv\\lib\\site-packages (from seaborn) (1.23.5)\n",
            "Requirement already satisfied: pandas>=0.25 in c:\\users\\kleitonewerton\\documents\\tcc\\miner-smartshark\\venv\\lib\\site-packages (from seaborn) (1.5.2)\n",
            "Requirement already satisfied: matplotlib!=3.6.1,>=3.1 in c:\\users\\kleitonewerton\\documents\\tcc\\miner-smartshark\\venv\\lib\\site-packages (from seaborn) (3.6.2)\n",
            "Requirement already satisfied: cycler>=0.10 in c:\\users\\kleitonewerton\\documents\\tcc\\miner-smartshark\\venv\\lib\\site-packages (from matplotlib!=3.6.1,>=3.1->seaborn) (0.11.0)\n",
            "Requirement already satisfied: pillow>=6.2.0 in c:\\users\\kleitonewerton\\documents\\tcc\\miner-smartshark\\venv\\lib\\site-packages (from matplotlib!=3.6.1,>=3.1->seaborn) (9.3.0)\n",
            "Requirement already satisfied: contourpy>=1.0.1 in c:\\users\\kleitonewerton\\documents\\tcc\\miner-smartshark\\venv\\lib\\site-packages (from matplotlib!=3.6.1,>=3.1->seaborn) (1.0.6)\n",
            "Requirement already satisfied: packaging>=20.0 in c:\\users\\kleitonewerton\\documents\\tcc\\miner-smartshark\\venv\\lib\\site-packages (from matplotlib!=3.6.1,>=3.1->seaborn) (21.3)\n",
            "Requirement already satisfied: kiwisolver>=1.0.1 in c:\\users\\kleitonewerton\\documents\\tcc\\miner-smartshark\\venv\\lib\\site-packages (from matplotlib!=3.6.1,>=3.1->seaborn) (1.4.4)\n",
            "Requirement already satisfied: fonttools>=4.22.0 in c:\\users\\kleitonewerton\\documents\\tcc\\miner-smartshark\\venv\\lib\\site-packages (from matplotlib!=3.6.1,>=3.1->seaborn) (4.38.0)\n",
            "Requirement already satisfied: pyparsing>=2.2.1 in c:\\users\\kleitonewerton\\documents\\tcc\\miner-smartshark\\venv\\lib\\site-packages (from matplotlib!=3.6.1,>=3.1->seaborn) (3.0.9)\n",
            "Requirement already satisfied: python-dateutil>=2.7 in c:\\users\\kleitonewerton\\documents\\tcc\\miner-smartshark\\venv\\lib\\site-packages (from matplotlib!=3.6.1,>=3.1->seaborn) (2.8.2)\n",
            "Requirement already satisfied: pytz>=2020.1 in c:\\users\\kleitonewerton\\documents\\tcc\\miner-smartshark\\venv\\lib\\site-packages (from pandas>=0.25->seaborn) (2022.6)\n",
            "Requirement already satisfied: six>=1.5 in c:\\users\\kleitonewerton\\documents\\tcc\\miner-smartshark\\venv\\lib\\site-packages (from python-dateutil>=2.7->matplotlib!=3.6.1,>=3.1->seaborn) (1.16.0)\n",
            "Installing collected packages: seaborn\n",
            "Successfully installed seaborn-0.12.1\n"
          ]
        }
      ],
      "source": [
        "%pip install mongoengine\n",
        "%pip install pycoshark\n",
        "%pip install matplotlib\n",
        "%pip install fpdf"
      ]
    },
    {
      "cell_type": "code",
      "execution_count": 51,
      "metadata": {
        "colab": {
          "base_uri": "https://localhost:8080/"
        },
        "id": "pWU_yfF0yeOF",
        "outputId": "0e0e329f-ec1a-4248-8351-2e1108dada8b"
      },
      "outputs": [
        {
          "data": {
            "text/plain": [
              "MongoClient(host=['localhost:27017'], document_class=dict, tz_aware=False, connect=True, read_preference=Primary())"
            ]
          },
          "execution_count": 51,
          "metadata": {},
          "output_type": "execute_result"
        }
      ],
      "source": [
        "import re\n",
        "import matplotlib.pyplot as plt\n",
        "from mongoengine import connect\n",
        "from pycoshark.mongomodels import Project, VCSSystem, Commit, FileAction, Hunk, Refactoring, IssueSystem, Issue, IssueComment, MailingList, Message\n",
        "from pycoshark.utils import create_mongodb_uri_string\n",
        "from mongoengine.connection import disconnect\n",
        "\n",
        "# You may have to update this dict to match your DB credentials\n",
        "credentials = {'db_user': '',\n",
        "               'db_password': '',\n",
        "               'db_hostname': 'localhost',\n",
        "               'db_port': 27017,\n",
        "               'db_authentication_database': '',\n",
        "               'db_ssl_enabled': False}\n",
        "\n",
        "uri = create_mongodb_uri_string(**credentials)\n",
        "\n",
        "# disconnect(alias='default')\n",
        "connect('smartshark_2_2', host=uri, alias='default')"
      ]
    },
    {
      "cell_type": "code",
      "execution_count": 52,
      "metadata": {},
      "outputs": [],
      "source": [
        "projectsObject = Project.objects().all()\n",
        "\n",
        "projects =[]\n",
        "\n",
        "for p in projectsObject:\n",
        "    if(p.name is not  projects ):\n",
        "        projects.append(p.name)\n"
      ]
    },
    {
      "cell_type": "code",
      "execution_count": 53,
      "metadata": {},
      "outputs": [
        {
          "name": "stdout",
          "output_type": "stream",
          "text": [
            "No issue tracker for project maven\n",
            "2 or more items returned, instead of 1\n",
            "No issue tracker for project tapestry-5\n",
            "2 or more items returned, instead of 1\n",
            "No issue tracker for project james\n",
            "2 or more items returned, instead of 1\n",
            "{'documentation': {'extract_variable': 9, 'extract_method': 15, 'parametrize_variable': 2, 'rename_class': 3, 'change_variable_type': 161, 'extract_attribute': 26, 'rename_method': 5, 'change_return_type': 8, 'rename_variable': 25, 'rename_attribute': 2, 'inline_variable': 1, 'move_class': 40, 'rename_parameter': 13, 'pull_up_attribute': 2, 'pull_up_method': 5, 'extract_and_move_method': 5, 'inline_method': 2, 'extract_interface': 2, 'push_down_method': 2}, 'bug': {'change_variable_type': 2533, 'rename_variable': 1054, 'extract_superclass': 61, 'pull_up_method': 480, 'pull_up_attribute': 150, 'extract_method': 1337, 'extract_variable': 892, 'inline_method': 125, 'rename_parameter': 671, 'extract_attribute': 1166, 'rename_method': 827, 'rename_attribute': 263, 'rename_class': 86, 'change_return_type': 1032, 'move_attribute': 212, 'parametrize_variable': 97, 'extract_and_move_method': 294, 'merge_parameter': 18, 'replace_variable_with_attribute': 81, 'move_class': 174, 'extract_class': 65, 'move_method': 406, 'inline_variable': 132, 'split_variable': 4, 'move_and_rename_class': 28, 'extract_interface': 24, 'merge_variable': 10, 'split_attribute': 2, 'push_down_attribute': 7, 'split_parameter': 5, 'merge_attribute': 2, 'extract_subclass': 1, 'push_down_method': 27, 'replace_attribute': 2}, 'other': {'change_variable_type': 38, 'extract_method': 14, 'extract_class': 5, 'move_attribute': 5, 'move_method': 7, 'change_return_type': 14, 'rename_method': 5, 'rename_parameter': 11, 'extract_attribute': 43, 'rename_variable': 9, 'replace_variable_with_attribute': 1, 'move_class': 1175, 'extract_variable': 6, 'extract_and_move_method': 3, 'push_down_attribute': 1, 'push_down_method': 5, 'rename_class': 3, 'rename_attribute': 13, 'inline_method': 10}, 'improvement': {'extract_variable': 513, 'rename_parameter': 1020, 'extract_attribute': 2290, 'rename_attribute': 326, 'change_variable_type': 5257, 'extract_and_move_method': 418, 'extract_method': 1094, 'change_return_type': 1856, 'rename_variable': 1229, 'rename_method': 788, 'move_and_rename_class': 396, 'extract_superclass': 75, 'extract_class': 85, 'move_method': 355, 'pull_up_method': 455, 'move_class': 2444, 'replace_variable_with_attribute': 74, 'move_attribute': 256, 'inline_method': 113, 'pull_up_attribute': 203, 'rename_class': 148, 'push_down_method': 93, 'inline_variable': 103, 'extract_interface': 12, 'merge_variable': 23, 'push_down_attribute': 40, 'parametrize_variable': 69, 'split_attribute': 8, 'extract_subclass': 12, 'merge_parameter': 7, 'merge_attribute': 6, 'split_variable': 2, 'move_and_rename_attribute': 2, 'replace_attribute': 2, 'split_parameter': 1}, 'test': {'change_variable_type': 33, 'replace_variable_with_attribute': 19, 'rename_class': 60, 'rename_variable': 50, 'move_attribute': 1, 'extract_variable': 42, 'extract_method': 68, 'extract_and_move_method': 80, 'rename_attribute': 18, 'extract_attribute': 14, 'merge_variable': 1, 'inline_variable': 1, 'rename_method': 68, 'move_method': 8, 'change_return_type': 7, 'inline_method': 21, 'rename_parameter': 20, 'merge_attribute': 2, 'move_class': 40, 'move_and_rename_class': 19, 'pull_up_attribute': 10, 'pull_up_method': 12, 'parametrize_variable': 5, 'extract_class': 1}, 'feature_request': {'change_variable_type': 38, 'rename_variable': 22, 'rename_method': 29, 'extract_method': 72, 'rename_parameter': 16, 'rename_attribute': 8, 'change_return_type': 22, 'extract_attribute': 30, 'inline_method': 3, 'inline_variable': 2, 'extract_variable': 6, 'parametrize_variable': 2, 'split_parameter': 1, 'replace_variable_with_attribute': 2, 'extract_superclass': 6, 'pull_up_method': 23, 'pull_up_attribute': 16, 'move_attribute': 3, 'rename_class': 4, 'move_and_rename_class': 1, 'extract_and_move_method': 2, 'extract_class': 1, 'move_class': 4}, 'refactoring': {'extract_method': 3, 'move_method': 1, 'rename_class': 1, 'change_return_type': 1, 'change_variable_type': 7, 'extract_attribute': 2, 'move_class': 13, 'extract_interface': 1, 'rename_parameter': 1}}\n"
          ]
        }
      ],
      "source": [
        "issue_type = {}\n",
        "issue_type_refactoring = {}\n",
        "for p in projects:\n",
        "    project = Project.objects(name=p).get()\n",
        "\n",
        "    if(project is not None):\n",
        "\n",
        "        vcs_system = VCSSystem.objects(project_id=project.id).get()\n",
        "\n",
        "        num_commits = Commit.objects(vcs_system_id=vcs_system.id).count()\n",
        "\n",
        "        try: \n",
        "\n",
        "            issue_tracker = IssueSystem.objects(project_id=project.id).get()\n",
        "\n",
        "            for issue in Issue.objects(issue_system_id=issue_tracker.id):\n",
        "                if issue.issue_type_verified is not None:\n",
        "                    if(issue.issue_type_verified not in issue_type):\n",
        "                        issue_type[issue.issue_type_verified] = 1\n",
        "                        issue_type_refactoring[issue.issue_type_verified] = {}\n",
        "                    else:\n",
        "                        issue_type[issue.issue_type_verified] += 1\n",
        "                    \n",
        "                    for commit in Commit.objects(linked_issue_ids=issue.id):\n",
        "                        miner = Refactoring.objects(commit_id=commit.id, detection_tool='rMiner')\n",
        "                        if miner is not None:\n",
        "                            for ref in miner:\n",
        "                                \n",
        "                                if ref.type not in issue_type_refactoring[issue.issue_type_verified]:\n",
        "                                    issue_type_refactoring[issue.issue_type_verified][ref.type] = 1\n",
        "                                else:\n",
        "                                    issue_type_refactoring[issue.issue_type_verified][ref.type] += 1\n",
        "\n",
        "        except Exception as e:\n",
        "            print(\"No issue tracker for project \" + p)\n",
        "            print(e)\n",
        "   \n",
        "print(issue_type_refactoring)"
      ]
    },
    {
      "cell_type": "code",
      "execution_count": 58,
      "metadata": {},
      "outputs": [
        {
          "name": "stderr",
          "output_type": "stream",
          "text": [
            "C:\\Users\\KleitonEwerton\\AppData\\Local\\Temp\\ipykernel_4948\\1310888904.py:17: FutureWarning: The frame.append method is deprecated and will be removed from pandas in a future version. Use pandas.concat instead.\n",
            "  df = df.append(row, ignore_index=True)\n",
            "C:\\Users\\KleitonEwerton\\AppData\\Local\\Temp\\ipykernel_4948\\1310888904.py:17: FutureWarning: The frame.append method is deprecated and will be removed from pandas in a future version. Use pandas.concat instead.\n",
            "  df = df.append(row, ignore_index=True)\n",
            "C:\\Users\\KleitonEwerton\\AppData\\Local\\Temp\\ipykernel_4948\\1310888904.py:17: FutureWarning: The frame.append method is deprecated and will be removed from pandas in a future version. Use pandas.concat instead.\n",
            "  df = df.append(row, ignore_index=True)\n",
            "C:\\Users\\KleitonEwerton\\AppData\\Local\\Temp\\ipykernel_4948\\1310888904.py:17: FutureWarning: The frame.append method is deprecated and will be removed from pandas in a future version. Use pandas.concat instead.\n",
            "  df = df.append(row, ignore_index=True)\n",
            "C:\\Users\\KleitonEwerton\\AppData\\Local\\Temp\\ipykernel_4948\\1310888904.py:17: FutureWarning: The frame.append method is deprecated and will be removed from pandas in a future version. Use pandas.concat instead.\n",
            "  df = df.append(row, ignore_index=True)\n",
            "C:\\Users\\KleitonEwerton\\AppData\\Local\\Temp\\ipykernel_4948\\1310888904.py:17: FutureWarning: The frame.append method is deprecated and will be removed from pandas in a future version. Use pandas.concat instead.\n",
            "  df = df.append(row, ignore_index=True)\n",
            "C:\\Users\\KleitonEwerton\\AppData\\Local\\Temp\\ipykernel_4948\\1310888904.py:17: FutureWarning: The frame.append method is deprecated and will be removed from pandas in a future version. Use pandas.concat instead.\n",
            "  df = df.append(row, ignore_index=True)\n"
          ]
        }
      ],
      "source": [
        "import pandas as pd\n",
        "\n",
        "type_refactorings  = ['issue']\n",
        "\n",
        "for issue in issue_type_refactoring:\n",
        "    for ref in issue_type_refactoring[issue]:\n",
        "        if ref not in type_refactorings:\n",
        "            type_refactorings.append(ref)\n",
        "\n",
        "df = pd.DataFrame(columns = type_refactorings)\n",
        "\n",
        "for issue in issue_type_refactoring:\n",
        "    row = {}\n",
        "    row['issue']= issue\n",
        "    for ref in issue_type_refactoring[issue]:\n",
        "        row[ref] = issue_type_refactoring[issue][ref]\n",
        "    df = df.append(row, ignore_index=True)\n",
        "\n",
        "df.set_index('issue', inplace=True)\n",
        "\n",
        "df = df.transpose()\n",
        "df.to_csv(\"csv/issue_type_refactoring.csv\")"
      ]
    },
    {
      "cell_type": "markdown",
      "metadata": {
        "id": "IsM-85y1zV67"
      },
      "source": [
        "# Analise"
      ]
    }
  ],
  "metadata": {
    "colab": {
      "collapsed_sections": [
        "Wu3AtKaczcPh"
      ],
      "provenance": [],
      "toc_visible": true
    },
    "kernelspec": {
      "display_name": "Python 3.8.10 ('venv': venv)",
      "language": "python",
      "name": "python3"
    },
    "language_info": {
      "codemirror_mode": {
        "name": "ipython",
        "version": 3
      },
      "file_extension": ".py",
      "mimetype": "text/x-python",
      "name": "python",
      "nbconvert_exporter": "python",
      "pygments_lexer": "ipython3",
      "version": "3.8.10"
    },
    "orig_nbformat": 4,
    "vscode": {
      "interpreter": {
        "hash": "7ccc1b04d93b41e8642e2fa11eeed94ffc1b70c1cc4819a703f5246239c0ba4d"
      }
    }
  },
  "nbformat": 4,
  "nbformat_minor": 0
}
