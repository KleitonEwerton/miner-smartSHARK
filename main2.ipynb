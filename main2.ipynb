{
  "cells": [
    {
      "cell_type": "markdown",
      "metadata": {
        "id": "Wu3AtKaczcPh"
      },
      "source": [
        "# Pips and Connection "
      ]
    },
    {
      "cell_type": "code",
      "execution_count": 1,
      "metadata": {
        "colab": {
          "base_uri": "https://localhost:8080/"
        },
        "id": "uRYVY8OcykeE",
        "outputId": "ac8ea31d-e63c-4cb1-8c81-38bcef8bc6ba"
      },
      "outputs": [
        {
          "name": "stdout",
          "output_type": "stream",
          "text": [
            "Requirement already satisfied: mongoengine in c:\\users\\kleitonewerton\\documents\\tcc\\miner-smartshark\\venv\\lib\\site-packages (0.23.1)\n",
            "Requirement already satisfied: pymongo<4.0,>=3.4 in c:\\users\\kleitonewerton\\documents\\tcc\\miner-smartshark\\venv\\lib\\site-packages (from mongoengine) (3.12.2)\n",
            "Note: you may need to restart the kernel to use updated packages.\n",
            "Requirement already satisfied: pycoshark in c:\\users\\kleitonewerton\\documents\\tcc\\miner-smartshark\\venv\\lib\\site-packages (1.4.5)\n",
            "Requirement already satisfied: textdistance in c:\\users\\kleitonewerton\\documents\\tcc\\miner-smartshark\\venv\\lib\\site-packages (from pycoshark) (4.5.0)\n",
            "Requirement already satisfied: python-dateutil in c:\\users\\kleitonewerton\\documents\\tcc\\miner-smartshark\\venv\\lib\\site-packages (from pycoshark) (2.8.2)\n",
            "Requirement already satisfied: networkx in c:\\users\\kleitonewerton\\documents\\tcc\\miner-smartshark\\venv\\lib\\site-packages (from pycoshark) (2.8.8)\n",
            "Requirement already satisfied: pymongo==3.12.2 in c:\\users\\kleitonewerton\\documents\\tcc\\miner-smartshark\\venv\\lib\\site-packages (from pycoshark) (3.12.2)\n",
            "Requirement already satisfied: mongoengine==0.23.1 in c:\\users\\kleitonewerton\\documents\\tcc\\miner-smartshark\\venv\\lib\\site-packages (from pycoshark) (0.23.1)\n",
            "Requirement already satisfied: six>=1.5 in c:\\users\\kleitonewerton\\documents\\tcc\\miner-smartshark\\venv\\lib\\site-packages (from python-dateutil->pycoshark) (1.16.0)\n",
            "Note: you may need to restart the kernel to use updated packages.\n",
            "Requirement already satisfied: matplotlib in c:\\users\\kleitonewerton\\documents\\tcc\\miner-smartshark\\venv\\lib\\site-packages (3.6.2)\n",
            "Requirement already satisfied: pyparsing>=2.2.1 in c:\\users\\kleitonewerton\\documents\\tcc\\miner-smartshark\\venv\\lib\\site-packages (from matplotlib) (3.0.9)\n",
            "Requirement already satisfied: numpy>=1.19 in c:\\users\\kleitonewerton\\documents\\tcc\\miner-smartshark\\venv\\lib\\site-packages (from matplotlib) (1.23.5)\n",
            "Requirement already satisfied: cycler>=0.10 in c:\\users\\kleitonewerton\\documents\\tcc\\miner-smartshark\\venv\\lib\\site-packages (from matplotlib) (0.11.0)\n",
            "Requirement already satisfied: pillow>=6.2.0 in c:\\users\\kleitonewerton\\documents\\tcc\\miner-smartshark\\venv\\lib\\site-packages (from matplotlib) (9.3.0)\n",
            "Requirement already satisfied: packaging>=20.0 in c:\\users\\kleitonewerton\\documents\\tcc\\miner-smartshark\\venv\\lib\\site-packages (from matplotlib) (21.3)\n",
            "Requirement already satisfied: fonttools>=4.22.0 in c:\\users\\kleitonewerton\\documents\\tcc\\miner-smartshark\\venv\\lib\\site-packages (from matplotlib) (4.38.0)\n",
            "Requirement already satisfied: contourpy>=1.0.1 in c:\\users\\kleitonewerton\\documents\\tcc\\miner-smartshark\\venv\\lib\\site-packages (from matplotlib) (1.0.6)\n",
            "Requirement already satisfied: python-dateutil>=2.7 in c:\\users\\kleitonewerton\\documents\\tcc\\miner-smartshark\\venv\\lib\\site-packages (from matplotlib) (2.8.2)\n",
            "Requirement already satisfied: kiwisolver>=1.0.1 in c:\\users\\kleitonewerton\\documents\\tcc\\miner-smartshark\\venv\\lib\\site-packages (from matplotlib) (1.4.4)\n",
            "Requirement already satisfied: six>=1.5 in c:\\users\\kleitonewerton\\documents\\tcc\\miner-smartshark\\venv\\lib\\site-packages (from python-dateutil>=2.7->matplotlib) (1.16.0)\n",
            "Note: you may need to restart the kernel to use updated packages.\n"
          ]
        }
      ],
      "source": [
        "%pip install mongoengine\n",
        "%pip install pycoshark\n",
        "%pip install matplotlib"
      ]
    },
    {
      "cell_type": "code",
      "execution_count": 2,
      "metadata": {
        "colab": {
          "base_uri": "https://localhost:8080/"
        },
        "id": "pWU_yfF0yeOF",
        "outputId": "0e0e329f-ec1a-4248-8351-2e1108dada8b"
      },
      "outputs": [
        {
          "data": {
            "text/plain": [
              "MongoClient(host=['localhost:27017'], document_class=dict, tz_aware=False, connect=True, read_preference=Primary())"
            ]
          },
          "execution_count": 2,
          "metadata": {},
          "output_type": "execute_result"
        }
      ],
      "source": [
        "import re\n",
        "from mongoengine import connect\n",
        "from pycoshark.mongomodels import Project, VCSSystem, Commit, FileAction, Hunk, Refactoring, IssueSystem, Issue, IssueComment, MailingList, Message\n",
        "from pycoshark.utils import create_mongodb_uri_string\n",
        "from mongoengine.connection import disconnect\n",
        "\n",
        "# You may have to update this dict to match your DB credentials\n",
        "credentials = {'db_user': '',\n",
        "               'db_password': '',\n",
        "               'db_hostname': 'localhost',\n",
        "               'db_port': 27017,\n",
        "               'db_authentication_database': '',\n",
        "               'db_ssl_enabled': False}\n",
        "\n",
        "uri = create_mongodb_uri_string(**credentials)\n",
        "\n",
        "# disconnect(alias='default')\n",
        "connect('smartshark_2_1', host=uri, alias='default')"
      ]
    },
    {
      "cell_type": "markdown",
      "metadata": {
        "id": "IsM-85y1zV67"
      },
      "source": [
        "# Analise"
      ]
    },
    {
      "cell_type": "code",
      "execution_count": 3,
      "metadata": {
        "colab": {
          "base_uri": "https://localhost:8080/",
          "height": 433
        },
        "id": "Yal1sfKIyeOR",
        "outputId": "b54f7dfc-361a-4a94-f5b3-e4ee470f7284"
      },
      "outputs": [
        {
          "name": "stdout",
          "output_type": "stream",
          "text": [
            "VCS System: https://github.com/apache/archiva.git\n",
            "Number of commits: 10261\n",
            "Issue Tracker: https://issues.apache.org/jira/rest/api/2/search?jql=project=ARCHIVA\n",
            "Number of issues: 2010\n",
            "count_linked_issue: 224\n",
            "Number of refactorings detected by refDiff: 716\n",
            "Number of refactorings detected by RefactoringMiner: 1596\n",
            "VCS System: https://github.com/apache/commons-math\n",
            "Number of commits: 7222\n",
            "Issue Tracker: https://issues.apache.org/jira/rest/api/2/search?jql=project=MATH\n",
            "Number of issues: 1455\n",
            "count_linked_issue: 158\n",
            "Number of refactorings detected by refDiff: 347\n",
            "Number of refactorings detected by RefactoringMiner: 2930\n",
            "VCS System: https://github.com/apache/ant-ivy\n",
            "Number of commits: 3189\n",
            "Issue Tracker: https://issues.apache.org/jira/rest/api/2/search?jql=project=IVY\n",
            "Number of issues: 1585\n",
            "count_linked_issue: 161\n",
            "Number of refactorings detected by refDiff: 246\n",
            "Number of refactorings detected by RefactoringMiner: 454\n",
            "VCS System: https://github.com/apache/kafka.git\n",
            "Number of commits: 6971\n",
            "Issue Tracker: https://issues.apache.org/jira/rest/api/2/search?jql=project=KAFKA\n",
            "Number of issues: 7007\n",
            "count_linked_issue: 495\n",
            "Number of refactorings detected by refDiff: 1444\n",
            "Number of refactorings detected by RefactoringMiner: 2970\n",
            "VCS System: https://github.com/apache/zeppelin.git\n",
            "Number of commits: 4735\n",
            "Issue Tracker: https://issues.apache.org/jira/rest/api/2/search?jql=project=ZEPPELIN\n",
            "Number of issues: 3557\n",
            "count_linked_issue: 171\n",
            "Number of refactorings detected by refDiff: 617\n",
            "Number of refactorings detected by RefactoringMiner: 768\n",
            "VCS System: https://github.com/apache/mahout\n",
            "Number of commits: 4167\n",
            "Issue Tracker: https://issues.apache.org/jira/rest/api/2/search?jql=project=MAHOUT\n",
            "Number of issues: 2062\n",
            "count_linked_issue: 144\n",
            "Number of refactorings detected by refDiff: 355\n",
            "Number of refactorings detected by RefactoringMiner: 1547\n",
            "VCS System: https://github.com/apache/struts.git\n",
            "Number of commits: 6080\n",
            "Issue Tracker: https://issues.apache.org/jira/rest/api/2/search?jql=project=WW\n",
            "Number of issues: 4931\n",
            "count_linked_issue: 251\n",
            "Number of refactorings detected by refDiff: 375\n",
            "Number of refactorings detected by RefactoringMiner: 787\n",
            "VCS System: https://github.com/apache/wss4j.git\n",
            "Number of commits: 3734\n",
            "Issue Tracker: https://issues.apache.org/jira/rest/api/2/search?jql=project=WSS4J\n",
            "Number of issues: 659\n",
            "count_linked_issue: 108\n",
            "Number of refactorings detected by refDiff: 112\n",
            "Number of refactorings detected by RefactoringMiner: 341\n",
            "VCS System: https://github.com/apache/xerces2-j.git\n",
            "Number of commits: 7787\n",
            "Issue Tracker: https://issues.apache.org/jira/rest/api/2/search?jql=project=XERCES2-J\n",
            "Number of issues: 1696\n",
            "count_linked_issue: 56\n",
            "Number of refactorings detected by refDiff: 88\n",
            "Number of refactorings detected by RefactoringMiner: 239\n",
            "VCS System: https://github.com/apache/jspwiki.git\n",
            "Number of commits: 8809\n",
            "Issue Tracker: https://issues.apache.org/jira/rest/api/2/search?jql=project=JSPWIKI\n",
            "Number of issues: 980\n",
            "count_linked_issue: 40\n",
            "Number of refactorings detected by refDiff: 15\n",
            "Number of refactorings detected by RefactoringMiner: 264\n"
          ]
        }
      ],
      "source": [
        "projectsList = ['archiva', 'commons-math', 'ant-ivy', 'kafka','zeppelin','mahout','struts','wss4j','xerces2-j','jspwiki']\n",
        "smallInfos = {}\n",
        "fullInfos = {}\n",
        "infoCommit = {}\n",
        "\n",
        "for p in projectsList:\n",
        "    project = Project.objects(name=p).get()\n",
        "\n",
        "    vcs_system = VCSSystem.objects(project_id=project.id).get()\n",
        "\n",
        "    print('VCS System:', vcs_system.url)\n",
        "\n",
        "    num_commits = Commit.objects(vcs_system_id=vcs_system.id).count()\n",
        "\n",
        "    print('Number of commits:', num_commits)\n",
        "\n",
        "    issue_tracker = IssueSystem.objects(project_id=project.id).get()\n",
        "\n",
        "    print('Issue Tracker:', issue_tracker.url)\n",
        "\n",
        "    num_issues = Issue.objects(issue_system_id=issue_tracker.id).count()\n",
        "\n",
        "    print('Number of issues:', num_issues)\n",
        "\n",
        "    count_linked_issue = 0\n",
        "    count_refactorings_refdiff = 0\n",
        "    count_refactorings_refactoringminer = 0\n",
        "\n",
        "    for commit in Commit.objects(vcs_system_id=vcs_system.id).only('labels', 'linked_issue_ids'):\n",
        "        if commit.linked_issue_ids is not None and len(commit.linked_issue_ids)>0:\n",
        "            \n",
        "            for linked_issue in commit.linked_issue_ids:\n",
        "                issue = Issue.objects(id=linked_issue).get()\n",
        "                if issue.issue_type is not None and issue.issue_type.lower()=='bug':\n",
        "                    refdiff = Refactoring.objects(commit_id=commit.id, detection_tool='refDiff').count()\n",
        "                    miner = Refactoring.objects(commit_id=commit.id, detection_tool='rMiner').count()\n",
        "                    if(refdiff > 0 or miner > 0):\n",
        "                        count_refactorings_refdiff += refdiff\n",
        "                        count_refactorings_refactoringminer += miner\n",
        "                        count_linked_issue += 1\n",
        "                        infoCommit[p] = {commit.id : {'linked_issue_ids': commit.linked_issue_ids, 'refactorings_refdiff': Refactoring.objects(commit_id=commit.id, detection_tool='refDiff').count(), 'refactorings_refactoringminer': Refactoring.objects(commit_id=commit.id, detection_tool='rMiner').count()}}\n",
        "                        break\n",
        "                    \n",
        "    print('count_linked_issue:', count_linked_issue)\n",
        "    print('Number of refactorings detected by refDiff:', count_refactorings_refdiff)\n",
        "    print('Number of refactorings detected by RefactoringMiner:', count_refactorings_refactoringminer)\n",
        "    fullInfos[p] = {'num_commits': num_commits, 'num_issues': num_issues, 'total_linked_issue': count_linked_issue, 'total_refactorings_refdiff': count_refactorings_refdiff, 'total_refactorings_refactoringminer': count_refactorings_refactoringminer, 'infoCommit': infoCommit}   \n",
        "    smallInfos[p] = {'num_commits': num_commits, 'num_issues': num_issues, 'total_linked_issue': count_linked_issue, 'total_refactorings_refdiff': count_refactorings_refdiff, 'total_refactorings_refactoringminer': count_refactorings_refactoringminer}   "
      ]
    },
    {
      "cell_type": "code",
      "execution_count": 4,
      "metadata": {},
      "outputs": [],
      "source": [
        "xNumCommits = []\n",
        "yLinkedIssue = []\n",
        "zNumIssues = []\n",
        "for info in smallInfos:\n",
        "    xNumCommits.append(smallInfos[info]['num_commits'])\n",
        "    yLinkedIssue.append(smallInfos[info]['total_linked_issue'])\n",
        "    zNumIssues.append(smallInfos[info]['num_issues'])"
      ]
    },
    {
      "cell_type": "code",
      "execution_count": 5,
      "metadata": {},
      "outputs": [
        {
          "data": {
            "text/plain": [
              "[2010, 1455, 1585, 7007, 3557, 2062, 4931, 659, 1696, 980]"
            ]
          },
          "execution_count": 5,
          "metadata": {},
          "output_type": "execute_result"
        }
      ],
      "source": [
        "zNumIssues"
      ]
    },
    {
      "cell_type": "code",
      "execution_count": 6,
      "metadata": {},
      "outputs": [
        {
          "data": {
            "image/png": "[encoded data removed]",
            "text/plain": [
              "<Figure size 640x480 with 1 Axes>"
            ]
          },
          "metadata": {},
          "output_type": "display_data"
        }
      ],
      "source": [
        "\n",
        "import matplotlib.pyplot as plt\n",
        "\n",
        "plt.plot( yLinkedIssue,zNumIssues, 'ro')\n",
        "plt.ylabel('Number of Issues')\n",
        "plt.xlabel('Number of Linked Issues')\n",
        "plt.show()"
      ]
    },
    {
      "cell_type": "code",
      "execution_count": 7,
      "metadata": {},
      "outputs": [
        {
          "data": {
            "image/png": "[encoded data removed]",
            "text/plain": [
              "<Figure size 640x480 with 1 Axes>"
            ]
          },
          "metadata": {},
          "output_type": "display_data"
        }
      ],
      "source": [
        "plt.plot( yLinkedIssue, xNumCommits,'ro')\n",
        "plt.ylabel('Number of Commits')\n",
        "plt.xlabel('Number of Linked Issues')\n",
        "plt.show()"
      ]
    }
  ],
  "metadata": {
    "colab": {
      "collapsed_sections": [
        "Wu3AtKaczcPh"
      ],
      "provenance": [],
      "toc_visible": true
    },
    "kernelspec": {
      "display_name": "Python 3.8.10 ('venv': venv)",
      "language": "python",
      "name": "python3"
    },
    "language_info": {
      "codemirror_mode": {
        "name": "ipython",
        "version": 3
      },
      "file_extension": ".py",
      "mimetype": "text/x-python",
      "name": "python",
      "nbconvert_exporter": "python",
      "pygments_lexer": "ipython3",
      "version": "3.8.10"
    },
    "orig_nbformat": 4,
    "vscode": {
      "interpreter": {
        "hash": "7ccc1b04d93b41e8642e2fa11eeed94ffc1b70c1cc4819a703f5246239c0ba4d"
      }
    }
  },
  "nbformat": 4,
  "nbformat_minor": 0
}
