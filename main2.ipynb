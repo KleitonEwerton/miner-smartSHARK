{
  "cells": [
    {
      "cell_type": "markdown",
      "metadata": {
        "id": "Wu3AtKaczcPh"
      },
      "source": [
        "# Pips and Connection "
      ]
    },
    {
      "cell_type": "code",
      "execution_count": 8,
      "metadata": {
        "colab": {
          "base_uri": "https://localhost:8080/"
        },
        "id": "uRYVY8OcykeE",
        "outputId": "ac8ea31d-e63c-4cb1-8c81-38bcef8bc6ba"
      },
      "outputs": [
        {
          "name": "stdout",
          "output_type": "stream",
          "text": [
            "Looking in indexes: https://pypi.org/simple, https://us-python.pkg.dev/colab-wheels/public/simple/\n",
            "Requirement already satisfied: mongoengine in /usr/local/lib/python3.7/dist-packages (0.23.1)\n",
            "Requirement already satisfied: pymongo<4.0,>=3.4 in /usr/local/lib/python3.7/dist-packages (from mongoengine) (3.12.2)\n",
            "Looking in indexes: https://pypi.org/simple, https://us-python.pkg.dev/colab-wheels/public/simple/\n",
            "Requirement already satisfied: pycoshark in /usr/local/lib/python3.7/dist-packages (1.4.5)\n",
            "Requirement already satisfied: pymongo==3.12.2 in /usr/local/lib/python3.7/dist-packages (from pycoshark) (3.12.2)\n",
            "Requirement already satisfied: textdistance in /usr/local/lib/python3.7/dist-packages (from pycoshark) (4.5.0)\n",
            "Requirement already satisfied: mongoengine==0.23.1 in /usr/local/lib/python3.7/dist-packages (from pycoshark) (0.23.1)\n",
            "Requirement already satisfied: networkx in /usr/local/lib/python3.7/dist-packages (from pycoshark) (2.6.3)\n",
            "Requirement already satisfied: python-dateutil in /usr/local/lib/python3.7/dist-packages (from pycoshark) (2.8.2)\n",
            "Requirement already satisfied: six>=1.5 in /usr/local/lib/python3.7/dist-packages (from python-dateutil->pycoshark) (1.15.0)\n"
          ]
        }
      ],
      "source": [
        "!%pip install mongoengine\n",
        "!%pip install pycoshark"
      ]
    },
    {
      "cell_type": "code",
      "execution_count": 1,
      "metadata": {
        "colab": {
          "base_uri": "https://localhost:8080/"
        },
        "id": "pWU_yfF0yeOF",
        "outputId": "0e0e329f-ec1a-4248-8351-2e1108dada8b"
      },
      "outputs": [
        {
          "data": {
            "text/plain": [
              "MongoClient(host=['localhost:27017'], document_class=dict, tz_aware=False, connect=True, read_preference=Primary())"
            ]
          },
          "execution_count": 1,
          "metadata": {},
          "output_type": "execute_result"
        }
      ],
      "source": [
        "import re\n",
        "from mongoengine import connect\n",
        "from pycoshark.mongomodels import Project, VCSSystem, Commit, FileAction, Hunk, Refactoring, IssueSystem, Issue, IssueComment, MailingList, Message\n",
        "from pycoshark.utils import create_mongodb_uri_string\n",
        "from mongoengine.connection import disconnect\n",
        "\n",
        "# You may have to update this dict to match your DB credentials\n",
        "credentials = {'db_user': '',\n",
        "               'db_password': '',\n",
        "               'db_hostname': 'localhost',\n",
        "               'db_port': 27017,\n",
        "               'db_authentication_database': '',\n",
        "               'db_ssl_enabled': False}\n",
        "\n",
        "uri = create_mongodb_uri_string(**credentials)\n",
        "\n",
        "# disconnect(alias='default')\n",
        "connect('smartshark_2_1', host=uri, alias='default')"
      ]
    },
    {
      "cell_type": "markdown",
      "metadata": {
        "id": "IsM-85y1zV67"
      },
      "source": [
        "# Analise"
      ]
    },
    {
      "cell_type": "code",
      "execution_count": 11,
      "metadata": {
        "colab": {
          "base_uri": "https://localhost:8080/",
          "height": 433
        },
        "id": "Yal1sfKIyeOR",
        "outputId": "b54f7dfc-361a-4a94-f5b3-e4ee470f7284"
      },
      "outputs": [
        {
          "name": "stdout",
          "output_type": "stream",
          "text": [
            "VCS System: https://github.com/apache/archiva.git\n",
            "Number of commits: 10261\n",
            "Issue Tracker: https://issues.apache.org/jira/rest/api/2/search?jql=project=ARCHIVA\n",
            "Number of issues: 2010\n",
            "count_linked_issue: 222\n",
            "Number of refactorings detected by refDiff: 715\n",
            "Number of refactorings detected by RefactoringMiner: 1593\n",
            "VCS System: https://github.com/apache/commons-math\n",
            "Number of commits: 7222\n",
            "Issue Tracker: https://issues.apache.org/jira/rest/api/2/search?jql=project=MATH\n",
            "Number of issues: 1455\n",
            "count_linked_issue: 151\n",
            "Number of refactorings detected by refDiff: 255\n",
            "Number of refactorings detected by RefactoringMiner: 2709\n",
            "VCS System: https://github.com/apache/ant-ivy\n",
            "Number of commits: 3189\n",
            "Issue Tracker: https://issues.apache.org/jira/rest/api/2/search?jql=project=IVY\n",
            "Number of issues: 1585\n",
            "count_linked_issue: 154\n",
            "Number of refactorings detected by refDiff: 243\n",
            "Number of refactorings detected by RefactoringMiner: 438\n",
            "VCS System: https://github.com/apache/kafka.git\n",
            "Number of commits: 6971\n",
            "Issue Tracker: https://issues.apache.org/jira/rest/api/2/search?jql=project=KAFKA\n",
            "Number of issues: 7007\n",
            "count_linked_issue: 490\n",
            "Number of refactorings detected by refDiff: 1438\n",
            "Number of refactorings detected by RefactoringMiner: 2966\n",
            "VCS System: https://github.com/apache/zeppelin.git\n",
            "Number of commits: 4735\n",
            "Issue Tracker: https://issues.apache.org/jira/rest/api/2/search?jql=project=ZEPPELIN\n",
            "Number of issues: 3557\n",
            "count_linked_issue: 160\n",
            "Number of refactorings detected by refDiff: 207\n",
            "Number of refactorings detected by RefactoringMiner: 453\n",
            "VCS System: https://github.com/apache/mahout\n",
            "Number of commits: 4167\n",
            "Issue Tracker: https://issues.apache.org/jira/rest/api/2/search?jql=project=MAHOUT\n",
            "Number of issues: 2062\n",
            "count_linked_issue: 143\n",
            "Number of refactorings detected by refDiff: 348\n",
            "Number of refactorings detected by RefactoringMiner: 1342\n",
            "VCS System: https://github.com/apache/struts.git\n",
            "Number of commits: 6080\n",
            "Issue Tracker: https://issues.apache.org/jira/rest/api/2/search?jql=project=WW\n",
            "Number of issues: 4931\n",
            "count_linked_issue: 246\n",
            "Number of refactorings detected by refDiff: 318\n",
            "Number of refactorings detected by RefactoringMiner: 730\n",
            "VCS System: https://github.com/apache/wss4j.git\n",
            "Number of commits: 3734\n",
            "Issue Tracker: https://issues.apache.org/jira/rest/api/2/search?jql=project=WSS4J\n",
            "Number of issues: 659\n",
            "count_linked_issue: 106\n",
            "Number of refactorings detected by refDiff: 109\n",
            "Number of refactorings detected by RefactoringMiner: 328\n",
            "VCS System: https://github.com/apache/xerces2-j.git\n",
            "Number of commits: 7787\n",
            "Issue Tracker: https://issues.apache.org/jira/rest/api/2/search?jql=project=XERCES2-J\n",
            "Number of issues: 1696\n",
            "count_linked_issue: 56\n",
            "Number of refactorings detected by refDiff: 88\n",
            "Number of refactorings detected by RefactoringMiner: 239\n",
            "VCS System: https://github.com/apache/jspwiki.git\n",
            "Number of commits: 8809\n",
            "Issue Tracker: https://issues.apache.org/jira/rest/api/2/search?jql=project=JSPWIKI\n",
            "Number of issues: 980\n",
            "count_linked_issue: 40\n",
            "Number of refactorings detected by refDiff: 15\n",
            "Number of refactorings detected by RefactoringMiner: 264\n"
          ]
        }
      ],
      "source": [
        "projectsList = ['archiva', 'commons-math', 'ant-ivy', 'kafka','zeppelin','mahout','struts','wss4j','xerces2-j','jspwiki']\n",
        "smallInfos = {}\n",
        "fullInfos = {}\n",
        "infoCommit = {}\n",
        "\n",
        "for p in projectsList:\n",
        "    project = Project.objects(name=p).get()\n",
        "\n",
        "    vcs_system = VCSSystem.objects(project_id=project.id).get()\n",
        "\n",
        "    print('VCS System:', vcs_system.url)\n",
        "\n",
        "    num_commits = Commit.objects(vcs_system_id=vcs_system.id).count()\n",
        "\n",
        "    print('Number of commits:', num_commits)\n",
        "\n",
        "    issue_tracker = IssueSystem.objects(project_id=project.id).get()\n",
        "\n",
        "    print('Issue Tracker:', issue_tracker.url)\n",
        "\n",
        "    num_issues = Issue.objects(issue_system_id=issue_tracker.id).count()\n",
        "\n",
        "    print('Number of issues:', num_issues)\n",
        "\n",
        "    count_linked_issue = 0\n",
        "    count_refactorings_refdiff = 0\n",
        "    count_refactorings_refactoringminer = 0\n",
        "\n",
        "    for commit in Commit.objects(vcs_system_id=vcs_system.id).only('labels', 'linked_issue_ids'):\n",
        "        if commit.labels is not None and 'validated_bugfix' in commit.labels and commit.labels['validated_bugfix']==True:\n",
        "            if commit.linked_issue_ids is not None and len(commit.linked_issue_ids)>0:\n",
        "                count_refactorings_refdiff += Refactoring.objects(commit_id=commit.id, detection_tool='refDiff').count()\n",
        "                count_refactorings_refactoringminer += Refactoring.objects(commit_id=commit.id, detection_tool='rMiner').count()\n",
        "                count_linked_issue += 1\n",
        "                infoCommit[p] = {commit.id : {'linked_issue_ids': commit.linked_issue_ids, 'refactorings_refdiff': Refactoring.objects(commit_id=commit.id, detection_tool='refDiff').count(), 'refactorings_refactoringminer': Refactoring.objects(commit_id=commit.id, detection_tool='rMiner').count()}}\n",
        "    print('count_linked_issue:', count_linked_issue)\n",
        "    print('Number of refactorings detected by refDiff:', count_refactorings_refdiff)\n",
        "    print('Number of refactorings detected by RefactoringMiner:', count_refactorings_refactoringminer)\n",
        "    fullInfos[p] = {'num_commits': num_commits, 'num_issues': num_issues, 'total_linked_issue': count_linked_issue, 'total_refactorings_refdiff': count_refactorings_refdiff, 'total_refactorings_refactoringminer': count_refactorings_refactoringminer, 'infoCommit': infoCommit}   \n",
        "    smallInfos[p] = {'num_commits': num_commits, 'num_issues': num_issues, 'total_linked_issue': count_linked_issue, 'total_refactorings_refdiff': count_refactorings_refdiff, 'total_refactorings_refactoringminer': count_refactorings_refactoringminer}   "
      ]
    },
    {
      "cell_type": "code",
      "execution_count": 3,
      "metadata": {},
      "outputs": [
        {
          "data": {
            "text/plain": [
              "{'archiva': {'num_commits': 10261,\n",
              "  'num_issues': 2010,\n",
              "  'total_linked_issue': 158,\n",
              "  'total_refactorings_refdiff': 505,\n",
              "  'total_refactorings_refactoringminer': 1100},\n",
              " 'commons-math': {'num_commits': 7222,\n",
              "  'num_issues': 1455,\n",
              "  'total_linked_issue': 89,\n",
              "  'total_refactorings_refdiff': 115,\n",
              "  'total_refactorings_refactoringminer': 303},\n",
              " 'ant-ivy': {'num_commits': 3189,\n",
              "  'num_issues': 1585,\n",
              "  'total_linked_issue': 138,\n",
              "  'total_refactorings_refdiff': 204,\n",
              "  'total_refactorings_refactoringminer': 389},\n",
              " 'kafka': {'num_commits': 6971,\n",
              "  'num_issues': 7007,\n",
              "  'total_linked_issue': 0,\n",
              "  'total_refactorings_refdiff': 0,\n",
              "  'total_refactorings_refactoringminer': 0},\n",
              " 'zeppelin': {'num_commits': 4735,\n",
              "  'num_issues': 3557,\n",
              "  'total_linked_issue': 0,\n",
              "  'total_refactorings_refdiff': 0,\n",
              "  'total_refactorings_refactoringminer': 0},\n",
              " 'mahout': {'num_commits': 4167,\n",
              "  'num_issues': 2062,\n",
              "  'total_linked_issue': 61,\n",
              "  'total_refactorings_refdiff': 150,\n",
              "  'total_refactorings_refactoringminer': 436},\n",
              " 'struts': {'num_commits': 6080,\n",
              "  'num_issues': 4931,\n",
              "  'total_linked_issue': 0,\n",
              "  'total_refactorings_refdiff': 0,\n",
              "  'total_refactorings_refactoringminer': 0},\n",
              " 'wss4j': {'num_commits': 3734,\n",
              "  'num_issues': 659,\n",
              "  'total_linked_issue': 61,\n",
              "  'total_refactorings_refdiff': 61,\n",
              "  'total_refactorings_refactoringminer': 224},\n",
              " 'xerces2-j': {'num_commits': 7787,\n",
              "  'num_issues': 1696,\n",
              "  'total_linked_issue': 0,\n",
              "  'total_refactorings_refdiff': 0,\n",
              "  'total_refactorings_refactoringminer': 0},\n",
              " 'jspwiki': {'num_commits': 8809,\n",
              "  'num_issues': 980,\n",
              "  'total_linked_issue': 25,\n",
              "  'total_refactorings_refdiff': 5,\n",
              "  'total_refactorings_refactoringminer': 176}}"
            ]
          },
          "execution_count": 3,
          "metadata": {},
          "output_type": "execute_result"
        }
      ],
      "source": [
        "smallInfos"
      ]
    },
    {
      "cell_type": "code",
      "execution_count": 10,
      "metadata": {},
      "outputs": [
        {
          "data": {
            "text/plain": [
              "{'archiva': {'num_commits': 10261,\n",
              "  'num_issues': 2010,\n",
              "  'total_linked_issue': 543,\n",
              "  'total_refactorings_refdiff': 505,\n",
              "  'total_refactorings_refactoringminer': 1100,\n",
              "  'infoCommit': {'archiva': {ObjectId('5b58546137b4503ec4b27c1b'): {'linked_issue_ids': [ObjectId('5b62ddeddddc135844b585f2')],\n",
              "     'refactorings_refdiff': 0,\n",
              "     'refactorings_refactoringminer': 0}}}}}"
            ]
          },
          "execution_count": 10,
          "metadata": {},
          "output_type": "execute_result"
        }
      ],
      "source": [
        "fullInfos"
      ]
    },
    {
      "cell_type": "code",
      "execution_count": 11,
      "metadata": {},
      "outputs": [
        {
          "data": {
            "text/plain": [
              "{'archiva': {ObjectId('5b58546137b4503ec4b27c1b'): {'linked_issue_ids': [ObjectId('5b62ddeddddc135844b585f2')],\n",
              "   'refactorings_refdiff': 0,\n",
              "   'refactorings_refactoringminer': 0}}}"
            ]
          },
          "execution_count": 11,
          "metadata": {},
          "output_type": "execute_result"
        }
      ],
      "source": [
        "infoCommit"
      ]
    }
  ],
  "metadata": {
    "colab": {
      "collapsed_sections": [
        "Wu3AtKaczcPh"
      ],
      "provenance": [],
      "toc_visible": true
    },
    "kernelspec": {
      "display_name": "Python 3.8.10 ('venv': venv)",
      "language": "python",
      "name": "python3"
    },
    "language_info": {
      "codemirror_mode": {
        "name": "ipython",
        "version": 3
      },
      "file_extension": ".py",
      "mimetype": "text/x-python",
      "name": "python",
      "nbconvert_exporter": "python",
      "pygments_lexer": "ipython3",
      "version": "3.8.10"
    },
    "orig_nbformat": 4,
    "vscode": {
      "interpreter": {
        "hash": "c8b5a08ea23df1f257cc28609e3381d7a6117e0c07778a0c77048eff0e04602e"
      }
    }
  },
  "nbformat": 4,
  "nbformat_minor": 0
}
